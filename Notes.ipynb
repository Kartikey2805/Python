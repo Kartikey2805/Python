{
 "cells": [
  {
   "cell_type": "code",
   "execution_count": 1,
   "id": "ee40936d",
   "metadata": {},
   "outputs": [
    {
     "name": "stdout",
     "output_type": "stream",
     "text": [
      "Hello World!\n"
     ]
    }
   ],
   "source": [
    "print('Hello World!')"
   ]
  },
  {
   "cell_type": "markdown",
   "id": "0cae3abc",
   "metadata": {},
   "source": [
    "### Interpreter Vs Compiler\n",
    "\n",
    "Usecase: Both are used to convert high level language to Machine code that System/CPU understands\n",
    "\n",
    "1. Interpreter: Used to parse the code line by line and executes every line on the go, interpreters are platform independent, Python is \n",
    "an Interpreter, interpreters are slower\n",
    "\n",
    "2. Compiler: Used to parse whole source code in one go and generate machine code that is executed by the system then onwards, compilers are platform dependent,  compilers are faster"
   ]
  },
  {
   "cell_type": "code",
   "execution_count": 4,
   "id": "6e70ad78",
   "metadata": {},
   "outputs": [
    {
     "name": "stdout",
     "output_type": "stream",
     "text": [
      "<class 'int'>\n"
     ]
    }
   ],
   "source": [
    "### Datatype\n",
    "x = 12\n",
    "print(type(x))"
   ]
  },
  {
   "cell_type": "code",
   "execution_count": 12,
   "id": "4f7814e0",
   "metadata": {},
   "outputs": [
    {
     "name": "stdout",
     "output_type": "stream",
     "text": [
      "3\n",
      "2\n",
      "0.5\n",
      "0\n",
      "8\n",
      "1\n",
      "abcabc\n",
      "[1, 1, 1, 1, 1, 1, 1, 1, 1, 1]\n",
      "4.0\n"
     ]
    }
   ],
   "source": [
    "## Operators\n",
    "print(1+2)\n",
    "print(1*2)\n",
    "print(1/2)\n",
    "print(1 // 2) # floor division\n",
    "print(2 ** 3) # 2 raised to power 3\n",
    "print(10 % 3) # modulus--remainder \n",
    "print(2 * \"abc\")\n",
    "print(10 * [1])\n",
    "### Order of Execution\n",
    "### PEMDAS (Paranthesis, Exponents, Multiplication, Division, Addition, Subtraction)\n",
    "\n",
    "print(2*2+2/2-1)"
   ]
  },
  {
   "cell_type": "code",
   "execution_count": 13,
   "id": "e6a06f0f",
   "metadata": {},
   "outputs": [
    {
     "name": "stdout",
     "output_type": "stream",
     "text": [
      "Thanks Kartikey\n"
     ]
    }
   ],
   "source": [
    "### Input Function\n",
    "name = input('What is your name?')\n",
    "print(f\"Thanks {name}\")"
   ]
  },
  {
   "cell_type": "code",
   "execution_count": 15,
   "id": "f063f0a3",
   "metadata": {},
   "outputs": [
    {
     "name": "stdout",
     "output_type": "stream",
     "text": [
      "3.3333333333333335\n",
      "3.33\n"
     ]
    }
   ],
   "source": [
    "### Round\n",
    "print(10/3)\n",
    "print(round(10/3, 2))"
   ]
  },
  {
   "cell_type": "code",
   "execution_count": 3,
   "id": "0e71c104",
   "metadata": {},
   "outputs": [
    {
     "name": "stdout",
     "output_type": "stream",
     "text": [
      "Please enter valid age\n",
      "Thanks for using the tool!\n"
     ]
    }
   ],
   "source": [
    "### Try, except, else and finally\n",
    "\n",
    "try:\n",
    "    age = int(input('what is your age?'))\n",
    "except: \n",
    "    print('Please enter valid age')\n",
    "else:\n",
    "    if age < 18:\n",
    "        print('You are not eligible, your are below 18!')\n",
    "    else:\n",
    "        print('Your are eligible!')\n",
    "finally:\n",
    "    print('Thanks for using the tool!')"
   ]
  },
  {
   "cell_type": "code",
   "execution_count": 10,
   "id": "26d9ca55",
   "metadata": {},
   "outputs": [
    {
     "name": "stdout",
     "output_type": "stream",
     "text": [
      "raahull\n",
      "RAAHULL\n",
      "2\n",
      "True\n",
      "Raahull\n"
     ]
    }
   ],
   "source": [
    "### string operations\n",
    "name = \"raahull\"\n",
    "print(name.lower())\n",
    "print(name.upper())\n",
    "print(name.count('a'))\n",
    "print(name.startswith('ra'))\n",
    "print(name.capitalize())"
   ]
  },
  {
   "cell_type": "markdown",
   "id": "0ddf73fe",
   "metadata": {},
   "source": [
    "### Functions"
   ]
  },
  {
   "cell_type": "markdown",
   "id": "1f91d4e0",
   "metadata": {},
   "source": [
    "Types: \n",
    "1. Inbuilt\n",
    "2. User Defined Functions \n",
    "3. Anonymous(Lambda)"
   ]
  },
  {
   "cell_type": "code",
   "execution_count": 14,
   "id": "15e305ad",
   "metadata": {},
   "outputs": [
    {
     "name": "stdout",
     "output_type": "stream",
     "text": [
      "3.0\n",
      "24\n",
      "3.141592653589793\n"
     ]
    }
   ],
   "source": [
    "### Modules\n",
    "import math\n",
    "result = math.sqrt(9)\n",
    "print(result)\n",
    "print(math.factorial(4))\n",
    "print(math.pi)"
   ]
  },
  {
   "cell_type": "code",
   "execution_count": 22,
   "id": "7b2ad945",
   "metadata": {},
   "outputs": [
    {
     "name": "stdout",
     "output_type": "stream",
     "text": [
      "17\n",
      "0.9123572981350756\n"
     ]
    }
   ],
   "source": [
    "# Random Module\n",
    "import random\n",
    "random_integer = random.randint(10,20) # bw 10 and 20 inclusive\n",
    "print(random_integer)\n",
    "print(random.random()) # bw 0 and 1"
   ]
  },
  {
   "cell_type": "markdown",
   "id": "9667de77",
   "metadata": {},
   "source": [
    "Functions:\n",
    "1. Parameter vs Argument\n",
    "2. Positional vs Keyword Argument"
   ]
  },
  {
   "cell_type": "code",
   "execution_count": 25,
   "id": "80dd105a",
   "metadata": {},
   "outputs": [
    {
     "name": "stdout",
     "output_type": "stream",
     "text": [
      "<function sum at 0x0000024E8D8999E0>\n"
     ]
    },
    {
     "name": "stdout",
     "output_type": "stream",
     "text": [
      "\u001b[31mSignature:\u001b[39m sum(num1, num2)\n",
      "\u001b[31mDocstring:\u001b[39m This Functions return sum of 2 numbers\n",
      "\u001b[31mFile:\u001b[39m      c:\\users\\aparn\\appdata\\local\\temp\\ipykernel_18592\\1980623484.py\n",
      "\u001b[31mType:\u001b[39m      function"
     ]
    }
   ],
   "source": [
    "### Doc Strings - documentation for function\n",
    "def sum(num1, num2):\n",
    "    \"\"\"\n",
    "    This Functions return sum of 2 numbers\n",
    "    \"\"\"\n",
    "    num3 = num1 + num2\n",
    "    return num3\n",
    "\n",
    "a,b = 1,2\n",
    "c = sum(a,b)\n",
    "print(sum)\n",
    "sum?"
   ]
  },
  {
   "cell_type": "code",
   "execution_count": 27,
   "id": "8c19ae48",
   "metadata": {},
   "outputs": [
    {
     "name": "stdout",
     "output_type": "stream",
     "text": [
      "2500\n"
     ]
    }
   ],
   "source": [
    "### range function\n",
    "s = 0\n",
    "for i in range(1,101,2):\n",
    "    s += i\n",
    "print(s)"
   ]
  },
  {
   "cell_type": "code",
   "execution_count": 1,
   "id": "291b5637",
   "metadata": {},
   "outputs": [
    {
     "data": {
      "text/plain": [
       "4"
      ]
     },
     "execution_count": 1,
     "metadata": {},
     "output_type": "execute_result"
    }
   ],
   "source": [
    "l = [1,2,3,4]\n",
    "max(l)\n",
    "# l."
   ]
  },
  {
   "cell_type": "markdown",
   "id": "a9d87377",
   "metadata": {},
   "source": [
    "### Strings"
   ]
  },
  {
   "cell_type": "code",
   "execution_count": 14,
   "id": "086001d0",
   "metadata": {},
   "outputs": [
    {
     "name": "stdout",
     "output_type": "stream",
     "text": [
      "_gg\n",
      "7\n",
      "['st', 'rin', 'gg']\n"
     ]
    }
   ],
   "source": [
    "### Strings\n",
    "s = \"st_rin_gg\"\n",
    "print(s[-3:])\n",
    "print(s.find('g', 6))\n",
    "print(s.split('_', maxsplit=2))\n",
    "# learn all string methods\n"
   ]
  },
  {
   "cell_type": "markdown",
   "id": "ab705530",
   "metadata": {},
   "source": [
    "### Lists"
   ]
  },
  {
   "cell_type": "code",
   "execution_count": null,
   "id": "190ddc25",
   "metadata": {},
   "outputs": [
    {
     "name": "stdout",
     "output_type": "stream",
     "text": [
      "[4, 3, 2, 1, 0]\n",
      "[0, 1, 2, 3, 4, 6]\n",
      "[-1, 0, 1, 2, 3, 4, 6]\n",
      "[-1, 0, 1, 2, 3, 6]\n",
      "-1_0_1_2_3_6\n"
     ]
    }
   ],
   "source": [
    "### lists\n",
    "l = [i for i in range(5)]\n",
    "print(l[::-1]) # reverse\n",
    "l.append(6)\n",
    "print(l)\n",
    "l.insert(0, -1) # index, element\n",
    "print(l)\n",
    "l.pop(5) # pop\n",
    "print(l)\n",
    "### joins a list and converts to string\n",
    "s = '_'.join([str(x) for x in l])\n",
    "print(s)"
   ]
  },
  {
   "cell_type": "markdown",
   "id": "47f8fc3f",
   "metadata": {},
   "source": [
    "### Dictionary"
   ]
  },
  {
   "cell_type": "code",
   "execution_count": null,
   "id": "46eae3cc",
   "metadata": {},
   "outputs": [
    {
     "name": "stdout",
     "output_type": "stream",
     "text": [
      "25\n",
      "64\n"
     ]
    },
    {
     "data": {
      "text/plain": [
       "{'A': 1, 'B': 0, 'C': 0, 'D': 2}"
      ]
     },
     "execution_count": 52,
     "metadata": {},
     "output_type": "execute_result"
    }
   ],
   "source": [
    "d = {}\n",
    "d = dict()\n",
    "for i in range(10):\n",
    "    d[i] = i ** 2\n",
    "print(d[5])\n",
    "d.pop(10,'The Key does not exists')\n",
    "d.pop(9)\n",
    "ele = d.get(8, -1) ## return -1 if 8 does not exist\n",
    "print(ele)\n",
    "d_copy = d.copy()\n",
    "d.clear()\n",
    "d_copy\n",
    "d = d_copy.copy()\n",
    "d.setdefault(10, 10 ** 2) ## searches for 10, if 10 does not exists, it adds 10 and assigns 100\n",
    "d\n",
    "keys = ['A','B','C']\n",
    "d = {}.fromkeys(keys, 0) ## creates a dict and defualts value 0\n",
    "new_d = {'A':1, 'D': 2}\n",
    "d.update(new_d) ## update a dict\n",
    "d"
   ]
  },
  {
   "cell_type": "markdown",
   "id": "f717c8d6",
   "metadata": {},
   "source": [
    "### Shallow & Deep Copy"
   ]
  },
  {
   "cell_type": "code",
   "execution_count": null,
   "id": "9b84c7e1",
   "metadata": {},
   "outputs": [
    {
     "name": "stdout",
     "output_type": "stream",
     "text": [
      "[2, 2, 3]\n",
      "[2, 2, 3]\n",
      "2473622507072 2473622507072\n"
     ]
    }
   ],
   "source": [
    "d = {'A':[1,2,3]}\n",
    "d_copy = d.copy() ## Shallow copy\n",
    "d_copy['A'][0] = 2\n",
    "print(d_copy['A'])\n",
    "print(d['A'])\n",
    "print(id(d_copy['A']), id(d['A'])) ## for address\n",
    "import copy\n",
    "deep_copy = copy.deepcopy(d)"
   ]
  },
  {
   "cell_type": "markdown",
   "id": "c5ffcac4",
   "metadata": {},
   "source": [
    "### Sets"
   ]
  },
  {
   "cell_type": "code",
   "execution_count": 10,
   "id": "75162925",
   "metadata": {},
   "outputs": [
    {
     "name": "stdout",
     "output_type": "stream",
     "text": [
      "True\n",
      "{1, 2, 3, 4}\n",
      "{1, 2, 3, 4}\n",
      "True\n",
      "False\n",
      "False\n"
     ]
    }
   ],
   "source": [
    "l = [1,2,3,[1,2]]\n",
    "l1 = [1,2,3,[1,2]]\n",
    "print(l == l1)\n",
    "\n",
    "s1 = {1,2,3}\n",
    "s2 = {2,3}\n",
    "# adding element to set\n",
    "s1.add(4)\n",
    "# removing element from set\n",
    "#s1.remove(5) ## throws error if not present\n",
    "s1.discard(5)\n",
    "\n",
    "# union of 2 set\n",
    "print(s1.union(s2))\n",
    "print(s1|s2)\n",
    "\n",
    "# subset and superset\n",
    "print(s2.issubset(s1))\n",
    "print(s2.issuperset(s1))\n",
    "print(s1.isdisjoint(s2))\n",
    "\n",
    "## In operator works fast in sets as compared to list as in sets it uses hash function to find an element whereas in lists it is linear"
   ]
  },
  {
   "cell_type": "markdown",
   "id": "f8ef9dc7",
   "metadata": {},
   "source": [
    "### Scopes"
   ]
  },
  {
   "cell_type": "code",
   "execution_count": null,
   "id": "20c7f42c",
   "metadata": {},
   "outputs": [
    {
     "name": "stdout",
     "output_type": "stream",
     "text": [
      "Red\n",
      "Blue\n",
      "True\n"
     ]
    }
   ],
   "source": [
    "colour = \"Blue\" ## global scope\n",
    "\n",
    "def changeColour():\n",
    "    # global colour ## to change global colour variable\n",
    "    colour = \"Red\" ## local scope\n",
    "    print(colour)\n",
    "\n",
    "changeColour()\n",
    "\n",
    "print(colour)\n",
    "\n",
    "## there is no block scope in python\n",
    "def blockscope():\n",
    "    def foo():\n",
    "        if 1 == 1:\n",
    "            if 2 == 2:\n",
    "                x = True\n",
    "        print(x)\n",
    "    foo()\n",
    "\n",
    "blockscope()"
   ]
  },
  {
   "cell_type": "markdown",
   "id": "f00cee33",
   "metadata": {},
   "source": [
    "### Regular Expressions"
   ]
  },
  {
   "cell_type": "code",
   "execution_count": null,
   "id": "3998ad30",
   "metadata": {},
   "outputs": [
    {
     "name": "stdout",
     "output_type": "stream",
     "text": [
      "1\n",
      "['1111-222-333']\n"
     ]
    }
   ],
   "source": [
    "import re\n",
    "phone_number = '111-222-3333'\n",
    "\n",
    "### search\n",
    "match_object = re.search(r'\\d', phone_number) # \\d checks for a digit\n",
    "print(match_object.group())\n",
    "\n",
    "### find all\n",
    "match_object = re.findall(r'\\d\\d\\d-\\d\\d\\d-\\d\\d\\d\\d', phone_number)\n",
    "print(match_object)"
   ]
  },
  {
   "cell_type": "code",
   "execution_count": 21,
   "id": "ecb056f0",
   "metadata": {},
   "outputs": [
    {
     "name": "stdout",
     "output_type": "stream",
     "text": [
      "125\n"
     ]
    }
   ],
   "source": [
    "text = \"df125\"\n",
    "mo = re.search('1.5', text) ## . signifies any one character\n",
    "print(mo.group())"
   ]
  },
  {
   "cell_type": "code",
   "execution_count": 3,
   "id": "8b5648e2",
   "metadata": {},
   "outputs": [
    {
     "name": "stdout",
     "output_type": "stream",
     "text": [
      "111-222-3333\n",
      "111-222-3333\n",
      "111\n",
      "222-3333\n"
     ]
    }
   ],
   "source": [
    "## () used to create groups in regex\n",
    "\n",
    "phone_number = '111-222-3333'\n",
    "phone_num_regex = re.compile(r'(\\d\\d\\d)-(\\d\\d\\d-\\d\\d\\d\\d)') ## compile a regex\n",
    "mo = phone_num_regex.search(phone_number)\n",
    "print(mo.group())\n",
    "print(mo.group(0))\n",
    "print(mo.group(1))\n",
    "print(mo.group(2))\n",
    "\n",
    "# \\ -- this is used as escape sequence to escape a metacharacter in regex"
   ]
  },
  {
   "cell_type": "code",
   "execution_count": 13,
   "id": "56d378ca",
   "metadata": {},
   "outputs": [
    {
     "name": "stdout",
     "output_type": "stream",
     "text": [
      "allow\n",
      "['allow', 'agree']\n"
     ]
    }
   ],
   "source": [
    "import re\n",
    "reg_exp = re.compile(r'agree|allow|miss')\n",
    "text = 'allowagree'\n",
    "mo = reg_exp.search(text)\n",
    "print(mo.group())\n",
    "print(reg_exp.findall(text))\n"
   ]
  },
  {
   "cell_type": "code",
   "execution_count": null,
   "id": "37c888df",
   "metadata": {},
   "outputs": [],
   "source": [
    "import re\n",
    "reg_exp = re.compile(r'dis(agree|allow|miss)')\n",
    "text = 'disagreee'\n",
    "mo = reg_exp.search(text)\n",
    "print(mo.group(0))"
   ]
  },
  {
   "cell_type": "code",
   "execution_count": null,
   "id": "471e7ba2",
   "metadata": {},
   "outputs": [
    {
     "name": "stdout",
     "output_type": "stream",
     "text": [
      "apple\n",
      "Ironman\n"
     ]
    }
   ],
   "source": [
    "# ? ## checks for 0 or 1 occurence\n",
    "reg_exp = re.compile(r'a?pple')\n",
    "mo = reg_exp.search('apple')\n",
    "mo = reg_exp.search('aapple')\n",
    "print(mo.group())\n",
    "\n",
    "reg_exp = re.compile(r'Iron(wo)?man') ## checks for 0 or 1 occurence of \"wo\"\n",
    "mo = reg_exp.search('Ironman')\n",
    "print(mo.group())"
   ]
  },
  {
   "cell_type": "code",
   "execution_count": 21,
   "id": "aa57c7bd",
   "metadata": {},
   "outputs": [
    {
     "name": "stdout",
     "output_type": "stream",
     "text": [
      "foobar\n",
      "foo--bar\n"
     ]
    }
   ],
   "source": [
    "# * # matches with 0,1 or more than 1\n",
    "\n",
    "reg_exp = re.compile(r'foo-*bar') ## checks for 0 or more than 0 occurences\n",
    "mo = reg_exp.search('foobar')\n",
    "print(mo.group())\n",
    "mo = reg_exp.search('foo--bar')\n",
    "print(mo.group())"
   ]
  },
  {
   "cell_type": "code",
   "execution_count": 24,
   "id": "cb5fc5e7",
   "metadata": {},
   "outputs": [
    {
     "name": "stdout",
     "output_type": "stream",
     "text": [
      "foo-bar\n"
     ]
    }
   ],
   "source": [
    "# + # matches 1 or more occurences -- appear atleat 1 time\n",
    "\n",
    "reg_exp = re.compile(r'foo-+bar') ## checks for 0 or more than 0 occurences\n",
    "mo = reg_exp.search('foo-bar')\n",
    "print(mo.group())\n"
   ]
  },
  {
   "cell_type": "code",
   "execution_count": 25,
   "id": "389ee5db",
   "metadata": {},
   "outputs": [
    {
     "name": "stdout",
     "output_type": "stream",
     "text": [
      "?*+\n"
     ]
    }
   ],
   "source": [
    "reg_exp = re.compile(r'\\?\\*\\+') ## \\ escapes the actual meaning of chars and treat as simple chars\n",
    "mo = reg_exp.search('I have learn about ?*+ metacharaters')\n",
    "print(mo.group())\n"
   ]
  },
  {
   "cell_type": "code",
   "execution_count": 28,
   "id": "857c9573",
   "metadata": {},
   "outputs": [
    {
     "name": "stdout",
     "output_type": "stream",
     "text": [
      "aaa\n"
     ]
    }
   ],
   "source": [
    "##  {min, max} specifies how exactly the chars must appear\n",
    "reg_exp = re.compile(r'a{3,4}') # can appear 3 or 4 times \n",
    "mo = reg_exp.search('bananaaa')\n",
    "print(mo.group())\n"
   ]
  },
  {
   "cell_type": "code",
   "execution_count": 3,
   "id": "df569eac",
   "metadata": {},
   "outputs": [
    {
     "data": {
      "text/plain": [
       "''"
      ]
     },
     "execution_count": 3,
     "metadata": {},
     "output_type": "execute_result"
    }
   ],
   "source": [
    "### Greedy vs Non Greedy\n",
    "import re\n",
    "reg_exp = re.compile('a??') ## ?? evaluates lazy matching or non greedy matching -- it evaluates 0 occurence if possible\n",
    "text = \"aaa\"\n",
    "mo = reg_exp.search(text)\n",
    "mo.group()"
   ]
  },
  {
   "cell_type": "code",
   "execution_count": null,
   "id": "35a7aa24",
   "metadata": {},
   "outputs": [],
   "source": []
  },
  {
   "cell_type": "code",
   "execution_count": null,
   "id": "7320083b",
   "metadata": {},
   "outputs": [],
   "source": []
  },
  {
   "cell_type": "code",
   "execution_count": null,
   "id": "7d1130be",
   "metadata": {},
   "outputs": [],
   "source": []
  },
  {
   "cell_type": "code",
   "execution_count": null,
   "id": "5befe9d5",
   "metadata": {},
   "outputs": [],
   "source": []
  },
  {
   "cell_type": "markdown",
   "id": "ec323185",
   "metadata": {},
   "source": [
    "### OS Module"
   ]
  },
  {
   "cell_type": "code",
   "execution_count": null,
   "id": "2efe073e",
   "metadata": {},
   "outputs": [
    {
     "name": "stdout",
     "output_type": "stream",
     "text": [
      "c:\\\n",
      "None\n",
      "c:\\\n",
      "c:\\Notes.ipynb\n",
      "True\n",
      "c:\\Python\n",
      "4\n"
     ]
    }
   ],
   "source": [
    "import os\n",
    "print(os.getcwd()) # current working directory\n",
    "print(os.chdir('../')) # change directory\n",
    "print(os.getcwd()) \n",
    "print(os.path.abspath('Notes.ipynb'))\n",
    "print(os.path.isabs(os.getcwd()))\n",
    "\n",
    "## scan dir in cwd\n",
    "# for dir in os.scandir():\n",
    "#     print(dir.name)\n",
    "#     print(dir.stat()) ## get file stats\n",
    "#     print(dir.is_dir()) ## check for whether a dir is directory\n",
    "#     print(dir.is_file()) ## check whether it is a file\n",
    "\n",
    "## os path\n",
    "path = os.path.join(os.getcwd(),'Python')\n",
    "print(path)\n",
    "\n",
    "### get files count in cwd\n",
    "import os \n",
    "cwd = os.getcwd()\n",
    "files_count = 0\n",
    "for dirr in os.scandir():\n",
    "    if dirr.is_file():\n",
    "        files_count += 1 \n",
    "print(files_count)\n",
    "\n",
    "\n"
   ]
  },
  {
   "cell_type": "code",
   "execution_count": null,
   "id": "f88be332",
   "metadata": {},
   "outputs": [
    {
     "name": "stdout",
     "output_type": "stream",
     "text": [
      "C:\\Users\\aparn\\OneDrive\\Desktop\\Kartikey\n",
      "C:\\Users\\aparn\\OneDrive\\Desktop\\Kartikey\n",
      "C:\\Users\\aparn\\OneDrive\\Desktop\\Kartikey\\.git\n",
      "C:\\Users\\aparn\\OneDrive\\Desktop\\Kartikey\\.git\\hooks\n",
      "C:\\Users\\aparn\\OneDrive\\Desktop\\Kartikey\\.git\\info\n",
      "C:\\Users\\aparn\\OneDrive\\Desktop\\Kartikey\\.git\\logs\n",
      "C:\\Users\\aparn\\OneDrive\\Desktop\\Kartikey\\.git\\logs\\refs\n",
      "C:\\Users\\aparn\\OneDrive\\Desktop\\Kartikey\\.git\\logs\\refs\\heads\n",
      "C:\\Users\\aparn\\OneDrive\\Desktop\\Kartikey\\.git\\objects\n",
      "C:\\Users\\aparn\\OneDrive\\Desktop\\Kartikey\\.git\\objects\\32\n",
      "C:\\Users\\aparn\\OneDrive\\Desktop\\Kartikey\\.git\\objects\\9e\n",
      "C:\\Users\\aparn\\OneDrive\\Desktop\\Kartikey\\.git\\objects\\info\n",
      "C:\\Users\\aparn\\OneDrive\\Desktop\\Kartikey\\.git\\objects\\pack\n",
      "C:\\Users\\aparn\\OneDrive\\Desktop\\Kartikey\\.git\\refs\n",
      "C:\\Users\\aparn\\OneDrive\\Desktop\\Kartikey\\.git\\refs\\heads\n",
      "C:\\Users\\aparn\\OneDrive\\Desktop\\Kartikey\\.git\\refs\\tags\n",
      "C:\\Users\\aparn\\OneDrive\\Desktop\\Kartikey\\Git\n",
      "C:\\Users\\aparn\\OneDrive\\Desktop\\Kartikey\\Git\\.git\n",
      "C:\\Users\\aparn\\OneDrive\\Desktop\\Kartikey\\Git\\.git\\hooks\n",
      "C:\\Users\\aparn\\OneDrive\\Desktop\\Kartikey\\Git\\.git\\info\n",
      "C:\\Users\\aparn\\OneDrive\\Desktop\\Kartikey\\Git\\.git\\logs\n",
      "C:\\Users\\aparn\\OneDrive\\Desktop\\Kartikey\\Git\\.git\\logs\\refs\n",
      "C:\\Users\\aparn\\OneDrive\\Desktop\\Kartikey\\Git\\.git\\logs\\refs\\heads\n",
      "C:\\Users\\aparn\\OneDrive\\Desktop\\Kartikey\\Git\\.git\\objects\n",
      "C:\\Users\\aparn\\OneDrive\\Desktop\\Kartikey\\Git\\.git\\objects\\1d\n",
      "C:\\Users\\aparn\\OneDrive\\Desktop\\Kartikey\\Git\\.git\\objects\\2e\n",
      "C:\\Users\\aparn\\OneDrive\\Desktop\\Kartikey\\Git\\.git\\objects\\50\n",
      "C:\\Users\\aparn\\OneDrive\\Desktop\\Kartikey\\Git\\.git\\objects\\59\n",
      "C:\\Users\\aparn\\OneDrive\\Desktop\\Kartikey\\Git\\.git\\objects\\a2\n",
      "C:\\Users\\aparn\\OneDrive\\Desktop\\Kartikey\\Git\\.git\\objects\\b7\n",
      "C:\\Users\\aparn\\OneDrive\\Desktop\\Kartikey\\Git\\.git\\objects\\e3\n",
      "C:\\Users\\aparn\\OneDrive\\Desktop\\Kartikey\\Git\\.git\\objects\\e6\n",
      "C:\\Users\\aparn\\OneDrive\\Desktop\\Kartikey\\Git\\.git\\objects\\f0\n",
      "C:\\Users\\aparn\\OneDrive\\Desktop\\Kartikey\\Git\\.git\\objects\\info\n",
      "C:\\Users\\aparn\\OneDrive\\Desktop\\Kartikey\\Git\\.git\\objects\\pack\n",
      "C:\\Users\\aparn\\OneDrive\\Desktop\\Kartikey\\Git\\.git\\refs\n",
      "C:\\Users\\aparn\\OneDrive\\Desktop\\Kartikey\\Git\\.git\\refs\\heads\n",
      "C:\\Users\\aparn\\OneDrive\\Desktop\\Kartikey\\Git\\.git\\refs\\tags\n",
      "C:\\Users\\aparn\\OneDrive\\Desktop\\Kartikey\\Python\n",
      "C:\\Users\\aparn\\OneDrive\\Desktop\\Kartikey\\Python\\.git\n",
      "C:\\Users\\aparn\\OneDrive\\Desktop\\Kartikey\\Python\\.git\\hooks\n",
      "C:\\Users\\aparn\\OneDrive\\Desktop\\Kartikey\\Python\\.git\\info\n",
      "C:\\Users\\aparn\\OneDrive\\Desktop\\Kartikey\\Python\\.git\\logs\n",
      "C:\\Users\\aparn\\OneDrive\\Desktop\\Kartikey\\Python\\.git\\logs\\refs\n",
      "C:\\Users\\aparn\\OneDrive\\Desktop\\Kartikey\\Python\\.git\\logs\\refs\\heads\n",
      "C:\\Users\\aparn\\OneDrive\\Desktop\\Kartikey\\Python\\.git\\logs\\refs\\remotes\n",
      "C:\\Users\\aparn\\OneDrive\\Desktop\\Kartikey\\Python\\.git\\logs\\refs\\remotes\\origin\n",
      "C:\\Users\\aparn\\OneDrive\\Desktop\\Kartikey\\Python\\.git\\objects\n",
      "C:\\Users\\aparn\\OneDrive\\Desktop\\Kartikey\\Python\\.git\\objects\\1b\n",
      "C:\\Users\\aparn\\OneDrive\\Desktop\\Kartikey\\Python\\.git\\objects\\1f\n",
      "C:\\Users\\aparn\\OneDrive\\Desktop\\Kartikey\\Python\\.git\\objects\\59\n",
      "C:\\Users\\aparn\\OneDrive\\Desktop\\Kartikey\\Python\\.git\\objects\\66\n",
      "C:\\Users\\aparn\\OneDrive\\Desktop\\Kartikey\\Python\\.git\\objects\\6a\n",
      "C:\\Users\\aparn\\OneDrive\\Desktop\\Kartikey\\Python\\.git\\objects\\6c\n",
      "C:\\Users\\aparn\\OneDrive\\Desktop\\Kartikey\\Python\\.git\\objects\\6f\n",
      "C:\\Users\\aparn\\OneDrive\\Desktop\\Kartikey\\Python\\.git\\objects\\94\n",
      "C:\\Users\\aparn\\OneDrive\\Desktop\\Kartikey\\Python\\.git\\objects\\98\n",
      "C:\\Users\\aparn\\OneDrive\\Desktop\\Kartikey\\Python\\.git\\objects\\b9\n",
      "C:\\Users\\aparn\\OneDrive\\Desktop\\Kartikey\\Python\\.git\\objects\\c3\n",
      "C:\\Users\\aparn\\OneDrive\\Desktop\\Kartikey\\Python\\.git\\objects\\ef\n",
      "C:\\Users\\aparn\\OneDrive\\Desktop\\Kartikey\\Python\\.git\\objects\\f7\n",
      "C:\\Users\\aparn\\OneDrive\\Desktop\\Kartikey\\Python\\.git\\objects\\fb\n",
      "C:\\Users\\aparn\\OneDrive\\Desktop\\Kartikey\\Python\\.git\\objects\\ff\n",
      "C:\\Users\\aparn\\OneDrive\\Desktop\\Kartikey\\Python\\.git\\objects\\info\n",
      "C:\\Users\\aparn\\OneDrive\\Desktop\\Kartikey\\Python\\.git\\objects\\pack\n",
      "C:\\Users\\aparn\\OneDrive\\Desktop\\Kartikey\\Python\\.git\\refs\n",
      "C:\\Users\\aparn\\OneDrive\\Desktop\\Kartikey\\Python\\.git\\refs\\heads\n",
      "C:\\Users\\aparn\\OneDrive\\Desktop\\Kartikey\\Python\\.git\\refs\\remotes\n",
      "C:\\Users\\aparn\\OneDrive\\Desktop\\Kartikey\\Python\\.git\\refs\\remotes\\origin\n",
      "C:\\Users\\aparn\\OneDrive\\Desktop\\Kartikey\\Python\\.git\\refs\\tags\n"
     ]
    }
   ],
   "source": [
    "os.chdir('C:/Users/aparn/OneDrive/Desktop/Kartikey')\n",
    "print(os.getcwd())\n",
    "\n",
    "## recusively traverse dir and files\n",
    "for dirpath, dirnames, files in os.walk(top=os.getcwd()):\n",
    "    print(dirpath)"
   ]
  },
  {
   "cell_type": "code",
   "execution_count": null,
   "id": "3267cc38",
   "metadata": {},
   "outputs": [],
   "source": []
  }
 ],
 "metadata": {
  "kernelspec": {
   "display_name": "Python 3",
   "language": "python",
   "name": "python3"
  },
  "language_info": {
   "codemirror_mode": {
    "name": "ipython",
    "version": 3
   },
   "file_extension": ".py",
   "mimetype": "text/x-python",
   "name": "python",
   "nbconvert_exporter": "python",
   "pygments_lexer": "ipython3",
   "version": "3.12.10"
  }
 },
 "nbformat": 4,
 "nbformat_minor": 5
}
