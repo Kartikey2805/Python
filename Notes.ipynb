{
 "cells": [
  {
   "cell_type": "code",
   "execution_count": 1,
   "id": "ee40936d",
   "metadata": {},
   "outputs": [
    {
     "name": "stdout",
     "output_type": "stream",
     "text": [
      "Hello World!\n"
     ]
    }
   ],
   "source": [
    "print('Hello World!')"
   ]
  },
  {
   "cell_type": "markdown",
   "id": "0cae3abc",
   "metadata": {},
   "source": [
    "### Interpreter Vs Compiler\n",
    "\n",
    "Usecase: Both are used to convert high level language to Machine code that System/CPU understands\n",
    "\n",
    "1. Interpreter: Used to parse the code line by line and executes every line on the go, interpreters are platform independent, Python is \n",
    "an Interpreter, interpreters are slower\n",
    "\n",
    "2. Compiler: Used to parse whole source code in one go and generate machine code that is executed by the system then onwards, compilers are platform dependent,  compilers are faster"
   ]
  },
  {
   "cell_type": "code",
   "execution_count": 4,
   "id": "6e70ad78",
   "metadata": {},
   "outputs": [
    {
     "name": "stdout",
     "output_type": "stream",
     "text": [
      "<class 'int'>\n"
     ]
    }
   ],
   "source": [
    "### Datatype\n",
    "x = 12\n",
    "print(type(x))"
   ]
  },
  {
   "cell_type": "code",
   "execution_count": 12,
   "id": "4f7814e0",
   "metadata": {},
   "outputs": [
    {
     "name": "stdout",
     "output_type": "stream",
     "text": [
      "3\n",
      "2\n",
      "0.5\n",
      "0\n",
      "8\n",
      "1\n",
      "abcabc\n",
      "[1, 1, 1, 1, 1, 1, 1, 1, 1, 1]\n",
      "4.0\n"
     ]
    }
   ],
   "source": [
    "## Operators\n",
    "print(1+2)\n",
    "print(1*2)\n",
    "print(1/2)\n",
    "print(1 // 2) # floor division\n",
    "print(2 ** 3) # 2 raised to power 3\n",
    "print(10 % 3) # modulus--remainder \n",
    "print(2 * \"abc\")\n",
    "print(10 * [1])\n",
    "### Order of Execution\n",
    "### PEMDAS (Paranthesis, Exponents, Multiplication, Division, Addition, Subtraction)\n",
    "\n",
    "print(2*2+2/2-1)"
   ]
  },
  {
   "cell_type": "code",
   "execution_count": 13,
   "id": "e6a06f0f",
   "metadata": {},
   "outputs": [
    {
     "name": "stdout",
     "output_type": "stream",
     "text": [
      "Thanks Kartikey\n"
     ]
    }
   ],
   "source": [
    "### Input Function\n",
    "name = input('What is your name?')\n",
    "print(f\"Thanks {name}\")"
   ]
  },
  {
   "cell_type": "code",
   "execution_count": 15,
   "id": "f063f0a3",
   "metadata": {},
   "outputs": [
    {
     "name": "stdout",
     "output_type": "stream",
     "text": [
      "3.3333333333333335\n",
      "3.33\n"
     ]
    }
   ],
   "source": [
    "### Round\n",
    "print(10/3)\n",
    "print(round(10/3, 2))"
   ]
  },
  {
   "cell_type": "code",
   "execution_count": 3,
   "id": "0e71c104",
   "metadata": {},
   "outputs": [
    {
     "name": "stdout",
     "output_type": "stream",
     "text": [
      "Please enter valid age\n",
      "Thanks for using the tool!\n"
     ]
    }
   ],
   "source": [
    "### Try, except, else and finally\n",
    "\n",
    "try:\n",
    "    age = int(input('what is your age?'))\n",
    "except: \n",
    "    print('Please enter valid age')\n",
    "else:\n",
    "    if age < 18:\n",
    "        print('You are not eligible, your are below 18!')\n",
    "    else:\n",
    "        print('Your are eligible!')\n",
    "finally:\n",
    "    print('Thanks for using the tool!')"
   ]
  },
  {
   "cell_type": "code",
   "execution_count": 10,
   "id": "26d9ca55",
   "metadata": {},
   "outputs": [
    {
     "name": "stdout",
     "output_type": "stream",
     "text": [
      "raahull\n",
      "RAAHULL\n",
      "2\n",
      "True\n",
      "Raahull\n"
     ]
    }
   ],
   "source": [
    "### string operations\n",
    "name = \"raahull\"\n",
    "print(name.lower())\n",
    "print(name.upper())\n",
    "print(name.count('a'))\n",
    "print(name.startswith('ra'))\n",
    "print(name.capitalize())"
   ]
  },
  {
   "cell_type": "markdown",
   "id": "0ddf73fe",
   "metadata": {},
   "source": [
    "### Functions"
   ]
  },
  {
   "cell_type": "markdown",
   "id": "1f91d4e0",
   "metadata": {},
   "source": [
    "Types: \n",
    "1. Inbuilt\n",
    "2. User Defined Functions \n",
    "3. Anonymous(Lambda)"
   ]
  },
  {
   "cell_type": "code",
   "execution_count": 14,
   "id": "15e305ad",
   "metadata": {},
   "outputs": [
    {
     "name": "stdout",
     "output_type": "stream",
     "text": [
      "3.0\n",
      "24\n",
      "3.141592653589793\n"
     ]
    }
   ],
   "source": [
    "### Modules\n",
    "import math\n",
    "result = math.sqrt(9)\n",
    "print(result)\n",
    "print(math.factorial(4))\n",
    "print(math.pi)"
   ]
  },
  {
   "cell_type": "code",
   "execution_count": 22,
   "id": "7b2ad945",
   "metadata": {},
   "outputs": [
    {
     "name": "stdout",
     "output_type": "stream",
     "text": [
      "17\n",
      "0.9123572981350756\n"
     ]
    }
   ],
   "source": [
    "# Random Module\n",
    "import random\n",
    "random_integer = random.randint(10,20) # bw 10 and 20 inclusive\n",
    "print(random_integer)\n",
    "print(random.random()) # bw 0 and 1"
   ]
  },
  {
   "cell_type": "markdown",
   "id": "9667de77",
   "metadata": {},
   "source": [
    "Functions:\n",
    "1. Parameter vs Argument\n",
    "2. Positional vs Keyword Argument"
   ]
  },
  {
   "cell_type": "code",
   "execution_count": 25,
   "id": "80dd105a",
   "metadata": {},
   "outputs": [
    {
     "name": "stdout",
     "output_type": "stream",
     "text": [
      "<function sum at 0x0000024E8D8999E0>\n"
     ]
    },
    {
     "name": "stdout",
     "output_type": "stream",
     "text": [
      "\u001b[31mSignature:\u001b[39m sum(num1, num2)\n",
      "\u001b[31mDocstring:\u001b[39m This Functions return sum of 2 numbers\n",
      "\u001b[31mFile:\u001b[39m      c:\\users\\aparn\\appdata\\local\\temp\\ipykernel_18592\\1980623484.py\n",
      "\u001b[31mType:\u001b[39m      function"
     ]
    }
   ],
   "source": [
    "### Doc Strings - documentation for function\n",
    "def sum(num1, num2):\n",
    "    \"\"\"\n",
    "    This Functions return sum of 2 numbers\n",
    "    \"\"\"\n",
    "    num3 = num1 + num2\n",
    "    return num3\n",
    "\n",
    "a,b = 1,2\n",
    "c = sum(a,b)\n",
    "print(sum)\n",
    "sum?"
   ]
  },
  {
   "cell_type": "code",
   "execution_count": 27,
   "id": "8c19ae48",
   "metadata": {},
   "outputs": [
    {
     "name": "stdout",
     "output_type": "stream",
     "text": [
      "2500\n"
     ]
    }
   ],
   "source": [
    "### range function\n",
    "s = 0\n",
    "for i in range(1,101,2):\n",
    "    s += i\n",
    "print(s)"
   ]
  },
  {
   "cell_type": "code",
   "execution_count": null,
   "id": "291b5637",
   "metadata": {},
   "outputs": [],
   "source": []
  }
 ],
 "metadata": {
  "kernelspec": {
   "display_name": "Python 3",
   "language": "python",
   "name": "python3"
  },
  "language_info": {
   "codemirror_mode": {
    "name": "ipython",
    "version": 3
   },
   "file_extension": ".py",
   "mimetype": "text/x-python",
   "name": "python",
   "nbconvert_exporter": "python",
   "pygments_lexer": "ipython3",
   "version": "3.12.10"
  }
 },
 "nbformat": 4,
 "nbformat_minor": 5
}
